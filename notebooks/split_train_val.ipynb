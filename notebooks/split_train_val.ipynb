{
 "cells": [
  {
   "cell_type": "code",
   "execution_count": 11,
   "metadata": {},
   "outputs": [],
   "source": [
    "import os,re\n",
    "from shutil import copyfile\n",
    "import numpy as np\n",
    "def mkdir(path):\n",
    "    \"\"\"create a single empty directory if it didn't exist\n",
    "    Parameters:\n",
    "        path (str) -- a single directory path\n",
    "    \"\"\"\n",
    "    if not os.path.exists(path):\n",
    "        os.makedirs(path)"
   ]
  },
  {
   "cell_type": "code",
   "execution_count": 5,
   "metadata": {},
   "outputs": [],
   "source": [
    "path = '/home/yifanc3/dataset2/cell_dataset/'\n",
    "frame_path = path+'frames/'\n",
    "mask_path = path+'masks/'\n",
    "frame_train = frame_path + 'train'\n",
    "mkdir(frame_train)\n",
    "frame_val = frame_path + 'val'\n",
    "mkdir(frame_val)\n",
    "mask_train = mask_path + 'train'\n",
    "mkdir(mask_train)\n",
    "mask_val = mask_path + 'val'\n",
    "mkdir(mask_val)\n"
   ]
  },
  {
   "cell_type": "code",
   "execution_count": 6,
   "metadata": {},
   "outputs": [],
   "source": [
    "frame_path = path+'frames_all/'\n",
    "mask_path = path+'masks_all/'"
   ]
  },
  {
   "cell_type": "code",
   "execution_count": 8,
   "metadata": {},
   "outputs": [],
   "source": [
    "frames = os.listdir(frame_path)\n",
    "frames.sort(key=lambda var:[int(x) if x.isdigit() else x \n",
    "                            for x in re.findall(r'[^0-9]|[0-9]+', var)])"
   ]
  },
  {
   "cell_type": "code",
   "execution_count": 9,
   "metadata": {},
   "outputs": [],
   "source": [
    "masks = os.listdir(mask_path)\n",
    "masks.sort(key=lambda var:[int(x) if x.isdigit() else x \n",
    "                            for x in re.findall(r'[^0-9]|[0-9]+', var)])"
   ]
  },
  {
   "cell_type": "code",
   "execution_count": 13,
   "metadata": {},
   "outputs": [
    {
     "name": "stdout",
     "output_type": "stream",
     "text": [
      "DMSO-20min-001-RGB.npy\n",
      "DMSO-20min-001-label.npy\n",
      "DMSO-20min-004-RGB.npy\n",
      "DMSO-20min-004-label.npy\n",
      "DMSO-20min-005-RGB.npy\n",
      "DMSO-20min-005-label.npy\n",
      "DMSO-20min-007-RGB.npy\n",
      "DMSO-20min-007-label.npy\n",
      "DMSO-20min-008-RGB.npy\n",
      "DMSO-20min-008-label.npy\n",
      "DMSO-20min-010-RGB.npy\n",
      "DMSO-20min-010-label.npy\n",
      "DMSO-20min-011-RGB.npy\n",
      "DMSO-20min-011-label.npy\n",
      "DMSO-20min-013-RGB.npy\n",
      "DMSO-20min-013-label.npy\n",
      "DMSO-20min-016-RGB.npy\n",
      "DMSO-20min-016-label.npy\n",
      "DMSO-20min-019-RGB.npy\n",
      "DMSO-20min-019-label.npy\n",
      "MCF-10A-DMSO-20min-001-RGB.npy\n",
      "MCF-10A-DMSO-20min-001-label.npy\n",
      "MCF-10A-DMSO-20min-004-RGB.npy\n",
      "MCF-10A-DMSO-20min-004-label.npy\n",
      "MCF-10A-DMSO-20min-007-RGB.npy\n",
      "MCF-10A-DMSO-20min-007-label.npy\n",
      "MCF-10A-DMSO-20min-010-RGB.npy\n",
      "MCF-10A-DMSO-20min-010-label.npy\n",
      "MCF-10A-DMSO-20min-013-RGB.npy\n",
      "MCF-10A-DMSO-20min-013-label.npy\n",
      "MCF-10A-DMSO-20min-016-RGB.npy\n",
      "MCF-10A-DMSO-20min-016-label.npy\n",
      "MCF-10A-DMSO-40min-001-RGB.npy\n",
      "MCF-10A-DMSO-40min-001-label.npy\n",
      "MCF-10A-DMSO-40min-004-RGB.npy\n",
      "MCF-10A-DMSO-40min-004-label.npy\n",
      "MCF-10A-DMSO-40min-007-RGB.npy\n",
      "MCF-10A-DMSO-40min-007-label.npy\n",
      "MCF-10A-DMSO-40min-010-RGB.npy\n",
      "MCF-10A-DMSO-40min-010-label.npy\n",
      "MCF-10A-DMSO-40min-013-RGB.npy\n",
      "MCF-10A-DMSO-40min-013-label.npy\n",
      "MCF-10A-DMSO-40min-016-RGB.npy\n",
      "MCF-10A-DMSO-40min-016-label.npy\n",
      "MCF-10A-LAT-A-20min-001-RGB.npy\n",
      "MCF-10A-LAT-A-20min-001-label.npy\n",
      "MCF-10A-LAT-A-20min-002-RGB.npy\n",
      "MCF-10A-LAT-A-20min-002-label.npy\n",
      "MCF-10A-LAT-A-20min-004-RGB.npy\n",
      "MCF-10A-LAT-A-20min-004-label.npy\n",
      "MCF-10A-LAT-A-20min-005-RGB.npy\n",
      "MCF-10A-LAT-A-20min-005-label.npy\n",
      "MCF-10A-LAT-A-20min-007-RGB.npy\n",
      "MCF-10A-LAT-A-20min-007-label.npy\n",
      "MCF-10A-LAT-A-20min-008-RGB.npy\n",
      "MCF-10A-LAT-A-20min-008-label.npy\n",
      "MCF-10A-LAT-A-20min-010-RGB.npy\n",
      "MCF-10A-LAT-A-20min-010-label.npy\n",
      "MCF-10A-LAT-A-20min-011-RGB.npy\n",
      "MCF-10A-LAT-A-20min-011-label.npy\n",
      "MCF-10A-LAT-A-20min-013-RGB.npy\n",
      "MCF-10A-LAT-A-20min-013-label.npy\n",
      "MCF-10A-LAT-A-20min-014-RGB.npy\n",
      "MCF-10A-LAT-A-20min-014-label.npy\n",
      "MCF-10A-LAT-A-20min-016-RGB.npy\n",
      "MCF-10A-LAT-A-20min-016-label.npy\n",
      "MCF-10A-LAT-A-20min-017-RGB.npy\n",
      "MCF-10A-LAT-A-20min-017-label.npy\n",
      "MCF-LAT-A-20min-013-RGB.npy\n",
      "MCF-LAT-A-20min-013-label.npy\n",
      "MCF-LAT-A-20min-016-RGB.npy\n",
      "MCF-LAT-A-20min-016-label.npy\n"
     ]
    }
   ],
   "source": [
    "# 0- 46\n",
    "for i in range(36):\n",
    "    frame_src = os.path.join(frame_path, frames[i])\n",
    "    frame_dst = os.path.join(frame_train, frames[i])\n",
    "    print(frames[i])\n",
    "    copyfile(frame_src, frame_dst)\n",
    "    \n",
    "    mask_src = os.path.join(mask_path, masks[i])\n",
    "    mask_dst = os.path.join(mask_train, masks[i])\n",
    "    print(masks[i])\n",
    "    copyfile(mask_src, mask_dst)"
   ]
  },
  {
   "cell_type": "code",
   "execution_count": 14,
   "metadata": {},
   "outputs": [
    {
     "name": "stdout",
     "output_type": "stream",
     "text": [
      "MCF-LAT-A-40min-001-RGB.npy\n",
      "MCF-LAT-A-40min-001-label.npy\n",
      "MCF-LAT-A-40min-004-RGB.npy\n",
      "MCF-LAT-A-40min-004-label.npy\n",
      "MCF-LAT-A-40min-007-RGB.npy\n",
      "MCF-LAT-A-40min-007-label.npy\n",
      "MCF-LAT-A-40min-010-RGB.npy\n",
      "MCF-LAT-A-40min-010-label.npy\n",
      "MCF-LAT-A-40min-013-RGB.npy\n",
      "MCF-LAT-A-40min-013-label.npy\n",
      "MCF-LAT-A-40min-016-RGB.npy\n",
      "MCF-LAT-A-40min-016-label.npy\n"
     ]
    }
   ],
   "source": [
    "for i in range(36,len(frames)):\n",
    "    frame_src = os.path.join(frame_path, frames[i])\n",
    "    frame_dst = os.path.join(frame_val, frames[i])\n",
    "    print(frames[i])\n",
    "    copyfile(frame_src, frame_dst)\n",
    "    \n",
    "    mask_src = os.path.join(mask_path, masks[i])\n",
    "    mask_dst = os.path.join(mask_val, masks[i])\n",
    "    print(masks[i])\n",
    "    copyfile(mask_src, mask_dst)"
   ]
  },
  {
   "cell_type": "code",
   "execution_count": null,
   "metadata": {},
   "outputs": [],
   "source": []
  }
 ],
 "metadata": {
  "kernelspec": {
   "display_name": "Python 2",
   "language": "python",
   "name": "python2"
  },
  "language_info": {
   "codemirror_mode": {
    "name": "ipython",
    "version": 2
   },
   "file_extension": ".py",
   "mimetype": "text/x-python",
   "name": "python",
   "nbconvert_exporter": "python",
   "pygments_lexer": "ipython2",
   "version": "2.7.5"
  }
 },
 "nbformat": 4,
 "nbformat_minor": 2
}
